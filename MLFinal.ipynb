{
  "cells": [
    {
      "cell_type": "markdown",
      "metadata": {
        "id": "24ZpiDdLSI2v"
      },
      "source": [
        "## Feature Engineering"
      ]
    },
    {
      "cell_type": "markdown",
      "metadata": {
        "id": "5ME79KRZSLdL"
      },
      "source": [
        "\n",
        "*   The fourth project is the development of a notebook (code + explanation) that successfully engineers 12 unique types of features, **three** for each type of feature engineering: **transforming**, **interacting**, **mapping**, and **extracting**.\n",
        "* The second part of the assignment is the development of a **deep learning classification** model to predict the direction of the S&P500 for the dates **2018-01-01—2018-07-12** (test set).\n",
        "* The feature engineering section is unrelated to the model section, you can develop any features, not just features that would work for deep learning models (later on you can decide which features to use in your model).\n",
        "*  You also have to uncomment all the example features and make them run successfully  → **every** feature example has some error/s that you have to fix. Please also describe the error you fixed!\n",
        "*   Note that we *won't* be attempting to measure the quality of every feature (i.e., how much it improves the model), that is slightly too advanced for this course.\n"
      ]
    },
    {
      "cell_type": "code",
      "execution_count": 89,
      "metadata": {
        "id": "KK3ah2-KR7Mc"
      },
      "outputs": [],
      "source": [
        "import pandas as pd\n",
        "import numpy as np\n",
        "import matplotlib.pyplot as plt\n",
        "import matplotlib.patches as mpatches\n",
        "import seaborn as sns\n",
        "from sklearn.model_selection import train_test_split\n",
        "from sklearn.metrics import confusion_matrix, accuracy_score\n",
        "import matplotlib.pyplot as plt\n",
        "from sklearn.manifold import Isomap\n",
        "from sklearn.datasets import load_digits\n",
        "import warnings\n",
        "warnings.filterwarnings(\"ignore\")"
      ]
    },
    {
      "cell_type": "markdown",
      "metadata": {
        "id": "y8DfulTBSAXT"
      },
      "source": [
        "Preparing the Data"
      ]
    },
    {
      "cell_type": "code",
      "execution_count": 125,
      "metadata": {
        "colab": {
          "base_uri": "https://localhost:8080/",
          "height": 257
        },
        "id": "F8Rf5rSWR-O4",
        "outputId": "778627e5-1915-416a-9768-13043308912f"
      },
      "outputs": [
        {
          "data": {
            "text/html": [
              "<div>\n",
              "<style scoped>\n",
              "    .dataframe tbody tr th:only-of-type {\n",
              "        vertical-align: middle;\n",
              "    }\n",
              "\n",
              "    .dataframe tbody tr th {\n",
              "        vertical-align: top;\n",
              "    }\n",
              "\n",
              "    .dataframe thead th {\n",
              "        text-align: right;\n",
              "    }\n",
              "</style>\n",
              "<table border=\"1\" class=\"dataframe\">\n",
              "  <thead>\n",
              "    <tr style=\"text-align: right;\">\n",
              "      <th></th>\n",
              "      <th>FTSE</th>\n",
              "      <th>EuroStoxx50</th>\n",
              "      <th>SP500</th>\n",
              "      <th>Gold</th>\n",
              "      <th>French-2Y</th>\n",
              "      <th>French-5Y</th>\n",
              "      <th>French-10Y</th>\n",
              "      <th>French-30Y</th>\n",
              "      <th>US-2Y</th>\n",
              "      <th>US-5Y</th>\n",
              "      <th>US-10Y</th>\n",
              "      <th>US-30Y</th>\n",
              "      <th>Russel2000</th>\n",
              "      <th>EuroStox_Small</th>\n",
              "      <th>FTSE_Small</th>\n",
              "      <th>MSCI_EM</th>\n",
              "      <th>CRB</th>\n",
              "      <th>target</th>\n",
              "    </tr>\n",
              "    <tr>\n",
              "      <th>Dates</th>\n",
              "      <th></th>\n",
              "      <th></th>\n",
              "      <th></th>\n",
              "      <th></th>\n",
              "      <th></th>\n",
              "      <th></th>\n",
              "      <th></th>\n",
              "      <th></th>\n",
              "      <th></th>\n",
              "      <th></th>\n",
              "      <th></th>\n",
              "      <th></th>\n",
              "      <th></th>\n",
              "      <th></th>\n",
              "      <th></th>\n",
              "      <th></th>\n",
              "      <th></th>\n",
              "      <th></th>\n",
              "    </tr>\n",
              "  </thead>\n",
              "  <tbody>\n",
              "    <tr>\n",
              "      <th>1989-02-01</th>\n",
              "      <td>2039.7</td>\n",
              "      <td>875.47</td>\n",
              "      <td>297.09</td>\n",
              "      <td>392.50</td>\n",
              "      <td>99.081</td>\n",
              "      <td>99.039</td>\n",
              "      <td>99.572</td>\n",
              "      <td>100.000</td>\n",
              "      <td>100.031</td>\n",
              "      <td>100.345</td>\n",
              "      <td>101.080</td>\n",
              "      <td>101.936</td>\n",
              "      <td>154.38</td>\n",
              "      <td>117.50</td>\n",
              "      <td>1636.57</td>\n",
              "      <td>133.584</td>\n",
              "      <td>286.67</td>\n",
              "      <td>0</td>\n",
              "    </tr>\n",
              "    <tr>\n",
              "      <th>1989-02-02</th>\n",
              "      <td>2043.4</td>\n",
              "      <td>878.08</td>\n",
              "      <td>296.84</td>\n",
              "      <td>392.00</td>\n",
              "      <td>98.898</td>\n",
              "      <td>99.117</td>\n",
              "      <td>99.278</td>\n",
              "      <td>99.692</td>\n",
              "      <td>100.000</td>\n",
              "      <td>100.314</td>\n",
              "      <td>101.017</td>\n",
              "      <td>101.905</td>\n",
              "      <td>154.94</td>\n",
              "      <td>117.69</td>\n",
              "      <td>1642.94</td>\n",
              "      <td>135.052</td>\n",
              "      <td>287.03</td>\n",
              "      <td>1</td>\n",
              "    </tr>\n",
              "    <tr>\n",
              "      <th>1989-02-03</th>\n",
              "      <td>2069.9</td>\n",
              "      <td>884.09</td>\n",
              "      <td>296.97</td>\n",
              "      <td>388.75</td>\n",
              "      <td>98.907</td>\n",
              "      <td>99.002</td>\n",
              "      <td>99.145</td>\n",
              "      <td>99.178</td>\n",
              "      <td>99.812</td>\n",
              "      <td>100.062</td>\n",
              "      <td>100.921</td>\n",
              "      <td>101.718</td>\n",
              "      <td>155.69</td>\n",
              "      <td>118.62</td>\n",
              "      <td>1659.11</td>\n",
              "      <td>137.134</td>\n",
              "      <td>285.63</td>\n",
              "      <td>0</td>\n",
              "    </tr>\n",
              "    <tr>\n",
              "      <th>1989-02-06</th>\n",
              "      <td>2044.3</td>\n",
              "      <td>885.49</td>\n",
              "      <td>296.04</td>\n",
              "      <td>388.00</td>\n",
              "      <td>98.484</td>\n",
              "      <td>98.502</td>\n",
              "      <td>98.510</td>\n",
              "      <td>97.739</td>\n",
              "      <td>99.812</td>\n",
              "      <td>100.062</td>\n",
              "      <td>100.794</td>\n",
              "      <td>101.468</td>\n",
              "      <td>155.58</td>\n",
              "      <td>118.89</td>\n",
              "      <td>1656.86</td>\n",
              "      <td>137.037</td>\n",
              "      <td>284.69</td>\n",
              "      <td>1</td>\n",
              "    </tr>\n",
              "    <tr>\n",
              "      <th>1989-02-07</th>\n",
              "      <td>2072.8</td>\n",
              "      <td>883.82</td>\n",
              "      <td>299.63</td>\n",
              "      <td>392.75</td>\n",
              "      <td>98.438</td>\n",
              "      <td>98.312</td>\n",
              "      <td>98.292</td>\n",
              "      <td>97.688</td>\n",
              "      <td>99.906</td>\n",
              "      <td>100.251</td>\n",
              "      <td>101.144</td>\n",
              "      <td>102.092</td>\n",
              "      <td>156.84</td>\n",
              "      <td>118.28</td>\n",
              "      <td>1662.76</td>\n",
              "      <td>136.914</td>\n",
              "      <td>284.21</td>\n",
              "      <td>0</td>\n",
              "    </tr>\n",
              "  </tbody>\n",
              "</table>\n",
              "</div>"
            ],
            "text/plain": [
              "              FTSE  EuroStoxx50   SP500    Gold  French-2Y  French-5Y  \\\n",
              "Dates                                                                   \n",
              "1989-02-01  2039.7       875.47  297.09  392.50     99.081     99.039   \n",
              "1989-02-02  2043.4       878.08  296.84  392.00     98.898     99.117   \n",
              "1989-02-03  2069.9       884.09  296.97  388.75     98.907     99.002   \n",
              "1989-02-06  2044.3       885.49  296.04  388.00     98.484     98.502   \n",
              "1989-02-07  2072.8       883.82  299.63  392.75     98.438     98.312   \n",
              "\n",
              "            French-10Y  French-30Y    US-2Y    US-5Y   US-10Y   US-30Y  \\\n",
              "Dates                                                                    \n",
              "1989-02-01      99.572     100.000  100.031  100.345  101.080  101.936   \n",
              "1989-02-02      99.278      99.692  100.000  100.314  101.017  101.905   \n",
              "1989-02-03      99.145      99.178   99.812  100.062  100.921  101.718   \n",
              "1989-02-06      98.510      97.739   99.812  100.062  100.794  101.468   \n",
              "1989-02-07      98.292      97.688   99.906  100.251  101.144  102.092   \n",
              "\n",
              "            Russel2000  EuroStox_Small  FTSE_Small  MSCI_EM     CRB  target  \n",
              "Dates                                                                        \n",
              "1989-02-01      154.38          117.50     1636.57  133.584  286.67       0  \n",
              "1989-02-02      154.94          117.69     1642.94  135.052  287.03       1  \n",
              "1989-02-03      155.69          118.62     1659.11  137.134  285.63       0  \n",
              "1989-02-06      155.58          118.89     1656.86  137.037  284.69       1  \n",
              "1989-02-07      156.84          118.28     1662.76  136.914  284.21       0  "
            ]
          },
          "execution_count": 125,
          "metadata": {},
          "output_type": "execute_result"
        }
      ],
      "source": [
        "# preparing our data\n",
        "raw_prices = pd.read_csv(\"https://storage.googleapis.com/sovai-public/random/assetalloc.csv\", sep=';', parse_dates=True, index_col='Dates', dayfirst=True)\n",
        "df = raw_prices.sort_values(by='Dates')\n",
        "df[\"target\"] = df[\"SP500\"].pct_change().shift(-1)\n",
        "df[\"target\"] = np.where(df[\"target\"]>0,1,0)\n",
        "df.head()"
      ]
    },
    {
      "cell_type": "markdown",
      "metadata": {
        "id": "8KjWNbXqfZju"
      },
      "source": [
        "### Train Test Split"
      ]
    },
    {
      "cell_type": "code",
      "execution_count": 126,
      "metadata": {
        "id": "IZjqGkgbfYIb"
      },
      "outputs": [],
      "source": [
        "from sklearn.model_selection import train_test_split\n",
        "y = df.pop(\"target\")\n",
        "X = df.copy()\n",
        "\n",
        "X_train = X[X.index.astype(str)<'2018-01-01']\n",
        "y_train = y[X_train.index]\n",
        "X_test = X[~X.index.isin(X_train.index)]\n",
        "y_test = y[X_test.index]\n",
        "\n",
        "# X_train, X_test, y_train, y_test = train_test_split(X, y, test_size=0.2, shuffle=False)"
      ]
    },
    {
      "cell_type": "markdown",
      "metadata": {
        "id": "8khPX0DTStdP"
      },
      "source": [
        "### Transforming"
      ]
    },
    {
      "cell_type": "markdown",
      "metadata": {
        "id": "y6ZyMnQ__B49"
      },
      "source": [
        "1. Refresh your mind on tranformation methods by going back to the material. I am simply providing 1 example here.\n",
        "1. Don't repeat my logarithmic return calculation, develop your own transformation (there are 1000s of types of transformations).\n",
        "1. In the example I provide, there is also an error that you have to fix. For example, one of the errors below is that you should actually use `np.log1p()`, but there is another one, so watch out!"
      ]
    },
    {
      "cell_type": "code",
      "execution_count": 127,
      "metadata": {
        "id": "4dwunC3GSrK2"
      },
      "outputs": [],
      "source": [
        "# Example Transforming (has errors)\n",
        "\n",
        "# Name: Logarithmic return of FTSE\n",
        "# Description: Developing the logarithmic return feature for use within linear models that make normality assumptions.\n",
        "\n",
        "# For training set\n",
        "#change to log1p\n",
        "#also we should calculated the log return instead of the log price. Since we\n",
        "#alreadey to the train test split, we should apply to the train and test set to avoid data leaking\n",
        "X_train[\"FTSE_log\"] = np.log1p(X_train[\"FTSE\"].pct_change())\n",
        "X_train[\"FTSE_log\"] = X_train[\"FTSE_log\"].fillna(0)\n",
        "X_test[\"FTSE_log\"] = np.log1p(X_test[\"FTSE\"].pct_change())\n",
        "X_test[\"FTSE_log\"] = X_test[\"FTSE_log\"].fillna(0)\n"
      ]
    },
    {
      "cell_type": "code",
      "execution_count": 128,
      "metadata": {
        "id": "8JvCCtvoT_2a"
      },
      "outputs": [],
      "source": [
        "## Transforming 1 (Add code below)\n",
        "#name: log daily return\n",
        "#for this feature, I calculated the difference between current time and previous time. \n",
        "X_train['FTSE_daily_diff'] = X_train['FTSE'].diff()\n",
        "X_train['FTSE_daily_diff'].fillna(X_train['FTSE_daily_diff'].mean(), inplace=True)\n",
        "X_test['FTSE_daily_diff'] = X_test['FTSE'].diff()\n",
        "X_test['FTSE_daily_diff'].fillna(X_test['FTSE_daily_diff'].mean(), inplace=True)\n",
        "\n",
        "\n",
        "X_train['SP500_daily_return'] = np.log(X_train['SP500']).pct_change()\n",
        "X_train['SP500_daily_return'].fillna(X_train['SP500_daily_return'].mean(), inplace=True)\n",
        "X_test['SP500_daily_return'] = np.log(X_test['SP500']).pct_change()\n",
        "X_test['SP500_daily_return'].fillna(X_test['SP500_daily_return'].mean(), inplace=True)"
      ]
    },
    {
      "cell_type": "code",
      "execution_count": 129,
      "metadata": {
        "id": "FOCuKHEmT_wU"
      },
      "outputs": [],
      "source": [
        "## Transforming 2 (Add code below)\n",
        "#name: rolling calculation\n",
        "#roll the window with size 30(monthly data) and calculated the monthy mean and standard deviation\n",
        "N = 30\n",
        "# Compute rolling mean and standard deviation\n",
        "X_train['FTSE_MA30_Mean'] = X_train['FTSE'].rolling(window=N).mean()\n",
        "X_train['FTSE_MA30_Std'] = X_train['FTSE'].rolling(window=N).std()\n",
        "X_test['FTSE_MA30_Mean'] = X_test['FTSE'].rolling(window=N).mean()\n",
        "X_test['FTSE_MA30_Std'] = X_test['FTSE'].rolling(window=N).std()"
      ]
    },
    {
      "cell_type": "code",
      "execution_count": 130,
      "metadata": {
        "id": "ghn81UtvPYmF"
      },
      "outputs": [],
      "source": [
        "## Transforming 3 (Add code below)\n",
        "#name: standardize daily return\n",
        "#do standardize transformation of the data that has mean of 0 and standard deviation \n",
        "#of 1 to avoid outliers and large numbers compared to other fetaures.\n",
        "from sklearn.preprocessing import StandardScaler\n",
        "scaler = StandardScaler()\n",
        "FTSE_train = X_train[\"FTSE\"].values.reshape(-1, 1)\n",
        "FTSE_test = X_test[\"FTSE\"].values.reshape(-1, 1)\n",
        "scaler.fit(FTSE_train)\n",
        "scaler.fit(FTSE_test)\n",
        "X_train[\"FTSE_scaled\"] = scaler.transform(FTSE_train)\n",
        "X_test[\"FTSE_scaled\"] = scaler.transform(FTSE_test)"
      ]
    },
    {
      "cell_type": "markdown",
      "metadata": {
        "id": "CiyIliYJTJRN"
      },
      "source": [
        "### Interacting"
      ]
    },
    {
      "cell_type": "markdown",
      "metadata": {
        "id": "XWuduQ-m_q7R"
      },
      "source": [
        "There are millions of possible interaction methods, be creative and come up with your own. For this assignment there is no 'right' feature engineering method, you simply develop one, and give it a name and a discreption."
      ]
    },
    {
      "cell_type": "code",
      "execution_count": 131,
      "metadata": {
        "id": "IN3tnhNUTDK3"
      },
      "outputs": [],
      "source": [
        "# Example Interacting (has errors)\n",
        "\n",
        "# Name: Ratio of Gold return to 10Y treasury\n",
        "# Desciption: Both gold and treasuries are safe-haven assets and descrepency in their ratio could be a sign of some marco-economic event.\n",
        "\n",
        "def gold_to_yield(df):\n",
        "   #since this will cause zero division error and result a -inf value, I add an additional\n",
        "   #minus the minimum value*0.0001 as a verry small change as a zero division gaurd\n",
        "   #another error I fixed is to call percentage change on gold returns as well.\n",
        "   teny_returns = df[\"US-10Y\"].pct_change() - df['US-10Y'].pct_change().min()*0.0001 \n",
        "   gold_returns = df[\"Gold\"].pct_change()\n",
        "   df[\"gold_r__div__teny_r\"] = gold_returns/teny_returns\n",
        "   df[\"gold_r__div__teny_r\"].iloc[0] = 0\n",
        "   return df\n",
        "X_train = gold_to_yield(X_train)\n",
        "X_test = gold_to_yield(X_test)"
      ]
    },
    {
      "cell_type": "code",
      "execution_count": 132,
      "metadata": {
        "id": "hwB5gEVjT1dz"
      },
      "outputs": [
        {
          "name": "stdout",
          "output_type": "stream",
          "text": [
            "    |   Population Average    |             Best Individual              |\n",
            "---- ------------------------- ------------------------------------------ ----------\n",
            " Gen   Length          Fitness   Length          Fitness      OOB Fitness  Time Left\n"
          ]
        },
        {
          "name": "stdout",
          "output_type": "stream",
          "text": [
            "   0    10.22       0.00991463        7        0.0469475        0.0123121      4.76s\n",
            "   1     4.81        0.0217679        6        0.0538677        0.0604754      3.47s\n",
            "   2     4.03        0.0333754        3        0.0547397        0.0492764      3.09s\n",
            "   3     3.76        0.0364014        9        0.0561957        0.0167916      2.05s\n",
            "   4     3.39        0.0376698        9        0.0558016        0.0205755      2.33s\n",
            "   5     3.52         0.038162       11         0.067032        0.0873223      1.93s\n",
            "   6     3.92        0.0374171        9        0.0577594       0.00444104      1.25s\n",
            "   7     3.99        0.0373661        5        0.0586255        0.0689813      0.85s\n",
            "   8     4.24        0.0372423        9        0.0576696       0.00343718      0.41s\n",
            "   9     4.47         0.037158        9        0.0585356       0.00546533      0.00s\n"
          ]
        },
        {
          "data": {
            "text/plain": [
              "(array([[ 3.51806878e-01,  1.32245872e-02,  3.92889260e+00, ...,\n",
              "          1.19223883e+02,  3.56273610e-01,  4.45137405e-05],\n",
              "        [ 3.31049026e-01, -4.38871166e-02, -1.30274517e+01, ...,\n",
              "         -3.99078225e+02,  3.16217830e-01, -1.47847718e-04],\n",
              "        [ 3.54805437e-01,  2.28392848e-02,  6.78258240e+00, ...,\n",
              "          2.11699719e+02,  3.62500977e-01,  7.69077171e-05],\n",
              "        ...,\n",
              "        [ 5.01007225e-01,  2.68672787e-01,  7.20746992e+02, ...,\n",
              "          3.45621240e+03,  5.15794934e-01,  1.00153129e-04],\n",
              "        [ 5.18145736e-01,  6.23785960e-01,  1.67644972e+03, ...,\n",
              "          8.09144930e+03,  5.52394383e-01,  2.32102949e-04],\n",
              "        [ 3.85269725e-01, -1.75951941e+00, -4.70426869e+03, ...,\n",
              "         -2.30011047e+04,  2.88053614e-01, -6.58106235e-04]]),\n",
              " array([[ 4.88565982e-01,  1.13727866e-01,  3.04063960e+02, ...,\n",
              "          1.48669377e+03,  4.94849618e-01,  4.25371935e-05],\n",
              "        [ 6.33418750e-01,  2.82491334e+00,  7.61542963e+03, ...,\n",
              "          3.64502364e+04,  7.87922850e-01,  1.04789037e-03],\n",
              "        [ 5.97919668e-01,  2.19066691e+00,  5.94341077e+03, ...,\n",
              "          2.83526293e+04,  7.17010020e-01,  8.07452437e-04],\n",
              "        ...,\n",
              "        [ 5.44646089e-01,  1.22127253e+00,  3.41204005e+03, ...,\n",
              "          1.53280789e+04,  6.07422393e-01,  4.37130448e-04],\n",
              "        [ 3.57185421e-01, -2.48885962e+00, -6.90414636e+03, ...,\n",
              "         -3.09664750e+04,  2.28155937e-01, -8.97203200e-04],\n",
              "        [ 6.43410463e-01,  3.07463407e+00,  8.60371777e+03, ...,\n",
              "          3.80289778e+04,  8.01326774e-01,  1.09875462e-03]]))"
            ]
          },
          "execution_count": 132,
          "metadata": {},
          "output_type": "execute_result"
        }
      ],
      "source": [
        "## Interacting 1 (Add code below)\n",
        "#name: Genetic programming transformation on new features\n",
        "#generates new features by evolving original data features using predefined mathematical operations and \n",
        "#effectively learns the patterns of the data and create new features based on the input function set. \n",
        "from gplearn.genetic import SymbolicTransformer\n",
        "def gp_features(X_train, X_test, num_gen=10, num_comp=12):\n",
        "    function_set = [\"add\", \"sub\", \"mul\", \"div\",\"sqrt\", \"log\", \"abs\", \"neg\", \"inv\", \"tan\", \"max\", \"min\",]\n",
        "    gp = SymbolicTransformer(\n",
        "        generations=num_gen, population_size=1000,\n",
        "                          hall_of_fame=100, n_components=num_comp,\n",
        "                          function_set=function_set,\n",
        "                          parsimony_coefficient=0.0005,\n",
        "                          max_samples=0.9, verbose=1,\n",
        "                          random_state=0, n_jobs=6,\n",
        "    )\n",
        "    gen_feats_train = gp.fit_transform(X_train, y_train)\n",
        "    gen_feats_test = gp.transform(X_test)\n",
        "    return gen_feats_train, gen_feats_test \n",
        "gp_features(X_train.fillna(0), X_test.fillna(0))"
      ]
    },
    {
      "cell_type": "code",
      "execution_count": 133,
      "metadata": {},
      "outputs": [],
      "source": [
        "## Interacting 2 (Add code below)\n",
        "#name: Multidivision on features\n",
        "#do both multipulation and division on selected features at the same time.\n",
        "def muldiv(df, feature_list, feat):\n",
        "    for feat_two in feature_list:\n",
        "      if feat==feat_two:\n",
        "        continue\n",
        "      else:\n",
        "       df[feat+\"/\"+feat_two] = df[feat]/(df[feat_two]) #zero division guard\n",
        "       df[feat+\"_X_\"+feat_two] = df[feat]*(df[feat_two])\n",
        "    return df\n",
        "\n",
        "X_train= muldiv(X_train, ['FTSE_Small', 'Russel2000', 'FTSE'], 'SP500')\n",
        "X_test= muldiv(X_test, ['FTSE_Small', 'Russel2000', 'FTSE'], 'SP500')\n"
      ]
    },
    {
      "cell_type": "code",
      "execution_count": 134,
      "metadata": {
        "id": "7iClfjUDPWu2"
      },
      "outputs": [],
      "source": [
        "## Interacting 3 (Add code below)\n",
        "#name: Rolling Variance\n",
        "#variance on rolling windows between US bond and french bond. Since both US-10Y and French-10Y are rates,\n",
        "#I want to do the rolling variance difference to see whether they are related to each other\n",
        "def rolling_var(df, feat1, feat2):\n",
        "    df[\"{}_rolling_var_{}\".format(feat1, feat2)] = df[feat1].rolling(window=N).var() - df[feat2].rolling(window=N).var()\n",
        "    return df\n",
        "#here I use fillna with the first value after window N instead of dropna since dropna will cause \n",
        "#different in size of the df compared to y data sets\n",
        "X_train = rolling_var(X_train, 'US-10Y', 'French-10Y').fillna(X_train.iloc[N+1])#.dropna()\n",
        "X_test = rolling_var(X_test, 'US-10Y', 'French-10Y').fillna(X_train.iloc[N+1])#.dropna()"
      ]
    },
    {
      "cell_type": "markdown",
      "metadata": {
        "id": "DwVvQ7NKdy6B"
      },
      "source": [
        "### Mapping"
      ]
    },
    {
      "cell_type": "markdown",
      "metadata": {
        "id": "m4Rc0htlDnrA"
      },
      "source": [
        "This one is slightly harder, you have to identify other  dimensionality reduction methods, there are many more than just PCA. Maybe you can also look at performing the decompositions just on a single asset classes, e.g., US-2Y, US-5Y, US-10Y, US-30Y is a fixed income asset class, but there are a few others in the dataset."
      ]
    },
    {
      "cell_type": "code",
      "execution_count": 135,
      "metadata": {
        "id": "IuR-aeFNd0LR"
      },
      "outputs": [],
      "source": [
        "# Example Mapping (has errors)\n",
        "\n",
        "# Name: First prinicipal component of all of the assets returns\n",
        "# Description:For stocks the first component resmbles the return of the market,\n",
        "#for multiple asset classes it could resemble a 'universal' asset class\n",
        "\n",
        "\n",
        "from sklearn.decomposition import PCA\n",
        "from sklearn.preprocessing import StandardScaler\n",
        "\n",
        "def pca_first(X_train, X_test):\n",
        "   sc = StandardScaler()\n",
        "   #handle infinities\n",
        "   X_train.replace([np.inf, -np.inf], np.nan, inplace=True)\n",
        "   X_test.replace([np.inf, -np.inf], np.nan, inplace=True)\n",
        "   X_train_s = sc.fit_transform(X_train.fillna(0))\n",
        "   X_test_s = sc.transform(X_test.fillna(0))\n",
        "   pca = PCA(1)\n",
        "   #no need fillna here(following two lines) since numpy.ndarray' object has no attribute 'fillna\n",
        "   X_train[\"first_prinicipal\"] = pca.fit_transform(X_train_s)\n",
        "   X_test[\"first_prinicipal\"] = pca.transform(X_test_s)\n",
        "   return X_train, X_test\n",
        "X_train, X_test = pca_first(X_train, X_test)"
      ]
    },
    {
      "cell_type": "code",
      "execution_count": 136,
      "metadata": {
        "id": "6XAoLXiajaIO"
      },
      "outputs": [],
      "source": [
        "## Mapping 1 (Add code below)\n",
        "#name:Uniform Manifold Approximation and Projection dimensionality reduction\n",
        "#dimensionality reduction technique that is very effective at grouping \n",
        "#clusters or groups in the data, even if the data structure is complex. Hence, I applied it on the entire df.\n",
        "#In addition, I choose umap rather tsne because umap has better runtime and flexibility.\n",
        "import umap\n",
        "from sklearn.datasets import load_digits\n",
        "from sklearn.model_selection import train_test_split\n",
        "\n",
        "def umap_mapping(X_train, X_test):\n",
        "   # Initialize UMAP\n",
        "   reducer = umap.UMAP(n_components=1, random_state=42)\n",
        "   X_train['umap'] = reducer.fit_transform(X_train)\n",
        "   X_test['umap'] = reducer.fit_transform(X_test)\n",
        "   return X_train, X_test\n",
        "\n",
        "X_train, X_test = umap_mapping(X_train, X_test)\n"
      ]
    },
    {
      "cell_type": "code",
      "execution_count": 137,
      "metadata": {
        "id": "lUmRlTldjb63"
      },
      "outputs": [],
      "source": [
        "## Mapping 2 (Add code below)\n",
        "#name: Isomap mapping for dimensionality reduction\n",
        "#Isomap is a non-linear dimensionality reduction method based on the geometric distances between data points. \n",
        "#This is considered a manifold learning algorithm and is particularly useful when the data lies on an embedded non-linear \n",
        "#manifold within the higher-dimensional space.\n",
        "def isomap_mapping(X_train, X_test):\n",
        "   embedding = Isomap(n_components=1)\n",
        "   X_train['isomap_US'] = embedding.fit_transform(X_train[['US-2Y','US-5Y', 'US-10Y', 'US-30Y']])\n",
        "   X_test['isomap_US'] = embedding.fit_transform(X_test[['US-2Y','US-5Y', 'US-10Y', 'US-30Y']])\n",
        "   return X_train, X_test\n",
        "\n",
        "X_train, X_test = isomap_mapping(X_train, X_test)\n"
      ]
    },
    {
      "cell_type": "code",
      "execution_count": 138,
      "metadata": {
        "id": "eh6vU15ePTKm"
      },
      "outputs": [],
      "source": [
        "## Mapping 3 (Add code below)\n",
        "from sklearn.discriminant_analysis import LinearDiscriminantAnalysis\n",
        "from sklearn.datasets import load_iris\n",
        "\n",
        "#name: Linear Discrimination dimensionality reduction\n",
        "#lda is a supervised dimensionality reduction analysis method and is useful \n",
        "#when the classes are well separated, so I applied it to the french rates series of features.\n",
        "def lda_mapping(X_train, X_test):\n",
        "   lda = LinearDiscriminantAnalysis(n_components=1)\n",
        "   X_train['lda_French'] = lda.fit_transform(X_train[['French-2Y','French-5Y', 'French-10Y', 'French-30Y']].fillna(0) , y_train)\n",
        "   X_test['lda_French'] = lda.transform(X_test[['French-2Y','French-5Y', 'French-10Y', 'French-30Y']].fillna(0))\n",
        "   return X_train, X_test\n",
        "X_train, X_test = lda_mapping(X_train, X_test)"
      ]
    },
    {
      "cell_type": "markdown",
      "metadata": {
        "id": "KtRBRXeRd_ad"
      },
      "source": [
        "Extracting"
      ]
    },
    {
      "cell_type": "code",
      "execution_count": 139,
      "metadata": {
        "id": "lHpV2LxIeA9i"
      },
      "outputs": [],
      "source": [
        "# Example Extracting (has errors)\n",
        "# Name: Annualized volatility in returns\n",
        "# Description: We are developing an annualized volatility measure for all asset returns, \n",
        "#which is a good measure of market turbulence\n",
        "\n",
        "def vola(df, window = 252):\n",
        "   #we should only consider the features in the original df and exclude the synthetic\n",
        "   #features, otherwise will cause columns that are all NaNs.\n",
        "   returns_ls = [\n",
        "       \"FTSE\", \"EuroStoxx50\",\"SP500\", \"Gold\", \"French-2Y\", \"French-5Y\", \"French-10Y\", \n",
        "       \"French-30Y\", \"US-2Y\", \"US-5Y\", \"US-10Y\", \"US-30Y\", \"Russel2000\", \"EuroStox_Small\", \"FTSE_Small\",\"MSCI_EM\", \"CRB\",\n",
        "    ]\n",
        "   #we should use window size = 252 since there are 252 trading days annually\n",
        "   volatility = df[returns_ls].pct_change().rolling(window=window).std()*(window**0.5)\n",
        "   \n",
        "   new_names = [(i,i+'_vol') for i in df.columns.values]\n",
        "   volatility.rename(columns = dict(new_names), inplace=True)\n",
        "   #I also filled NaN with the fist value being calculated, which is the line of the window size.\n",
        "   #I did not fillna with the mean of entire df since I want to eliminate data leaking\n",
        "   volatility.fillna(volatility.iloc[252])\n",
        "   df = pd.concat((df, volatility), axis=1).fillna(df.iloc[252])\n",
        "   return df\n",
        "\n",
        "X_train = vola(X_train)\n",
        "#I delete the transformation on test data here since we only has 100+ rows in test set\n",
        "#and a rolling window = 252 can not be applied since all columns will turn to NaN\n",
        "#X_test = vola(X_test)"
      ]
    },
    {
      "cell_type": "code",
      "execution_count": 140,
      "metadata": {},
      "outputs": [
        {
          "name": "stdout",
          "output_type": "stream",
          "text": [
            "Columns with all values as NaN: Series([], dtype: bool)\n"
          ]
        }
      ],
      "source": [
        "nan_columns = X_train.isna().all()\n",
        "print(\"Columns with all values as NaN:\", nan_columns[nan_columns == True])"
      ]
    },
    {
      "cell_type": "code",
      "execution_count": 141,
      "metadata": {},
      "outputs": [
        {
          "name": "stdout",
          "output_type": "stream",
          "text": [
            "Columns with all values as NaN: Series([], dtype: bool)\n"
          ]
        }
      ],
      "source": [
        "nan_columns = X_test.isna().all()\n",
        "print(\"Columns with all values as NaN:\", nan_columns[nan_columns == True])"
      ]
    },
    {
      "cell_type": "code",
      "execution_count": 142,
      "metadata": {
        "id": "P165fWF9PNdx"
      },
      "outputs": [],
      "source": [
        "## Extracting 1 (Add code below)\n",
        "#name: Moving max\n",
        "#calculates the maximum rate monthy and might help with measuring the momentum\n",
        "def rolling_stats_max(df):\n",
        "    rolling_mean = df[[\"US-2Y\", \"US-5Y\", \"US-10Y\", \"US-30Y\"]].rolling(window=30).max()\n",
        "    mean_names = [(i, i + \"_mean_30d\" )for i in [\"US-2Y\", \"US-5Y\", \"US-10Y\", \"US-30Y\"]]\n",
        "    rolling_mean.rename(columns=dict(mean_names), inplace=True)\n",
        "    df = pd.concat((df, rolling_mean), axis=1)\n",
        "    #print(df)\n",
        "    df = df.fillna(df.iloc[30])\n",
        "    return df\n",
        "X_train = rolling_stats_max(X_train)\n",
        "X_test = rolling_stats_max(X_test)\n"
      ]
    },
    {
      "cell_type": "code",
      "execution_count": 143,
      "metadata": {
        "id": "GODtIouyPQK-"
      },
      "outputs": [],
      "source": [
        "## Extracting 2 (Add code below)\n",
        "#name: Exponential moving average\n",
        "#This function calculates the Exponential weighted moving average\n",
        "# for the same set of columns with a span of 14 days(bi weekly).\n",
        "def ewma_features(df):\n",
        "    # Calculate EWMA\n",
        "    ewma = df[[\"US-2Y\", \"US-5Y\", \"US-10Y\", \"US-30Y\"]].ewm(span=14, adjust=False).mean()\n",
        "    ewma_names = {i: i + \"_ewma_14d\" for i in [\"US-2Y\", \"US-5Y\", \"US-10Y\", \"US-30Y\"]}\n",
        "    ewma.rename(columns=ewma_names, inplace=True)\n",
        "    df = pd.concat([df, ewma], axis=1)\n",
        "    #df = df.fillna(df.iloc[30])\n",
        "    return df\n",
        "X_train = ewma_features(X_train)\n",
        "X_test = ewma_features(X_test)\n"
      ]
    },
    {
      "cell_type": "code",
      "execution_count": 144,
      "metadata": {
        "id": "Fi2MaoAcPRFH"
      },
      "outputs": [],
      "source": [
        "## Extracting 3 (Add code below)\n",
        "#name: Moving standard deviation\n",
        "#This function resamples the data to monthly frequency and calculates the std \n",
        "#for the mentioned columns. \n",
        "def rolling_stats_std(df):\n",
        "    rolling_std = df[[\"US-2Y\", \"US-5Y\", \"US-10Y\", \"US-30Y\"]].rolling(window=30).std()\n",
        "    std_names = [(i, i + \"_std_30d\") for i in [\"US-2Y\", \"US-5Y\", \"US-10Y\", \"US-30Y\"]]\n",
        "    rolling_std.rename(columns=dict(std_names), inplace=True)\n",
        "    df = pd.concat((df, rolling_std), axis=1)\n",
        "    df = df.fillna(df.iloc[30])\n",
        "    return df\n",
        "X_train = rolling_stats_std(X_train)\n",
        "X_test = rolling_stats_std(X_test)"
      ]
    },
    {
      "cell_type": "code",
      "execution_count": 145,
      "metadata": {},
      "outputs": [
        {
          "data": {
            "text/plain": [
              "(7543, 64)"
            ]
          },
          "execution_count": 145,
          "metadata": {},
          "output_type": "execute_result"
        }
      ],
      "source": [
        "X_train.shape"
      ]
    },
    {
      "cell_type": "code",
      "execution_count": 146,
      "metadata": {},
      "outputs": [],
      "source": [
        "X_train_feat = X_train.copy()\n",
        "X_test_feat = X_test.copy()"
      ]
    },
    {
      "cell_type": "markdown",
      "metadata": {
        "id": "WhDvqiPnHccB"
      },
      "source": [
        "## Deep Learning Binary Classification"
      ]
    },
    {
      "cell_type": "markdown",
      "metadata": {
        "id": "JoNmgbgWHjGs"
      },
      "source": [
        "* For the deep learning model you can perform new data preprocessing methods and new feature engineering that are better suited to neural networks. You can also use all or some of the features you developed above (most features work in deep learning models as long as they are normalized).\n",
        "* It is very hard to predict the stock price, so in my grading I will look more at the quality of the model you process (e.g., that there is no data leakage, that you performed some hyperparameter tuning).\n",
        "* Make sure that you switch your GPU on, you have access to it on Colab. The training stage also takes long, you might want to use a smaller amount of data, or fewer epochs at first to speed up your development process.\n",
        "* After your training is done, you don't have to save your model, but you do have to print the performance of your model. You can report two metrics the ROC(AUC) and the Accuracy against the test set.\n",
        "* Also remember to set the random seed (random state) so that when I run your software, I get similar results (the results doesn't have to be exactely the same).\n",
        "* You can choose any type of deep learning archetecture, e.g., LSTM, GRU, CNN, it is up to you.\n",
        "* Remember that this section is less that 25% of the grade, so don't waste your time here.\n",
        "* And lastly, remember this is the stock market, so it is **difficult** to have an accuracy above 50%, good luck!"
      ]
    },
    {
      "cell_type": "code",
      "execution_count": 286,
      "metadata": {
        "id": "Rzk2wizgHwlP"
      },
      "outputs": [],
      "source": [
        "# reload the data\n",
        "raw_prices = pd.read_csv(\"https://storage.googleapis.com/sovai-public/random/assetalloc.csv\", sep=';', parse_dates=True, index_col='Dates', dayfirst=True)\n",
        "df = raw_prices.sort_values(by='Dates')\n",
        "df[\"target\"] = df[\"SP500\"].pct_change().shift(-1)\n",
        "df[\"target\"] = np.where(df[\"target\"]>0,1,0)\n",
        "y = df.pop(\"target\")\n",
        "X = df.copy()\n",
        "\n",
        "X_train = X[X.index.astype(str)<'2018-01-01']\n",
        "y_train = y[X_train.index]\n",
        "X_test = X[~X.index.isin(X_train.index)]\n",
        "y_test = y[X_test.index]\n"
      ]
    },
    {
      "cell_type": "code",
      "execution_count": 287,
      "metadata": {},
      "outputs": [],
      "source": [
        "y_train_feat = y_train.copy()\n",
        "y_test = y_test.copy()"
      ]
    },
    {
      "cell_type": "code",
      "execution_count": 288,
      "metadata": {},
      "outputs": [],
      "source": [
        "from sklearn.preprocessing import StandardScaler\n",
        "#we first perform train test split in the previous cell before do standardization to prevent data leaking\n",
        "scaler = StandardScaler()\n",
        "X_train_scaled = scaler.fit_transform(X_train)\n",
        "X_test_scaled = scaler.transform(X_test)\n",
        "\n",
        "X_train = pd.DataFrame(X_train_scaled, columns=X_train.columns, index=X_train.index)\n",
        "X_test = pd.DataFrame(X_test_scaled, columns=X_test.columns, index=X_test.index)"
      ]
    },
    {
      "cell_type": "code",
      "execution_count": 289,
      "metadata": {},
      "outputs": [],
      "source": [
        "import numpy as np\n",
        "#from keras.models import Sequential\n",
        "#from keras.layers.core import Dense\n",
        "import keras\n",
        "import keras_tuner as kt\n",
        "keras.utils.set_random_seed(7)"
      ]
    },
    {
      "cell_type": "code",
      "execution_count": 290,
      "metadata": {},
      "outputs": [
        {
          "data": {
            "text/plain": [
              "<bound method DataFrame.corr of                FTSE  EuroStoxx50    SP500     Gold  French-2Y  French-5Y  \\\n",
              "Dates                                                                      \n",
              "1989-02-01  2039.70      875.470   297.09   392.50     99.081     99.039   \n",
              "1989-02-02  2043.40      878.080   296.84   392.00     98.898     99.117   \n",
              "1989-02-03  2069.90      884.090   296.97   388.75     98.907     99.002   \n",
              "1989-02-06  2044.30      885.490   296.04   388.00     98.484     98.502   \n",
              "1989-02-07  2072.80      883.820   299.63   392.75     98.438     98.312   \n",
              "...             ...          ...      ...      ...        ...        ...   \n",
              "2018-07-06  7617.70     3448.490  2759.82  1254.84     90.036    149.257   \n",
              "2018-07-09  7687.99     3460.442  2784.17  1261.56     90.022    149.158   \n",
              "2018-07-10  7692.04     3473.311  2793.84  1254.45     90.004    149.059   \n",
              "2018-07-11  7591.96     3422.348  2774.02  1246.32     89.959    149.040   \n",
              "2018-07-12  7651.33     3445.493  2798.29  1247.32     89.925    149.023   \n",
              "\n",
              "            French-10Y  French-30Y    US-2Y    US-5Y   US-10Y   US-30Y  \\\n",
              "Dates                                                                    \n",
              "1989-02-01      99.572     100.000  100.031  100.345  101.080  101.936   \n",
              "1989-02-02      99.278      99.692  100.000  100.314  101.017  101.905   \n",
              "1989-02-03      99.145      99.178   99.812  100.062  100.921  101.718   \n",
              "1989-02-06      98.510      97.739   99.812  100.062  100.794  101.468   \n",
              "1989-02-07      98.292      97.688   99.906  100.251  101.144  102.092   \n",
              "...                ...         ...      ...      ...      ...      ...   \n",
              "2018-07-06     211.743     306.533  122.817  143.926  143.078  164.296   \n",
              "2018-07-09     211.487     303.672  122.779  143.745  142.721  163.527   \n",
              "2018-07-10     211.377     303.464  122.702  143.610  142.565  163.354   \n",
              "2018-07-11     211.450     304.801  122.740  143.813  142.922  164.246   \n",
              "2018-07-12     211.724     305.707  122.683  143.723  142.810  164.048   \n",
              "\n",
              "            Russel2000  EuroStox_Small  FTSE_Small   MSCI_EM     CRB  \n",
              "Dates                                                                 \n",
              "1989-02-01      154.38         117.500     1636.57   133.584  286.67  \n",
              "1989-02-02      154.94         117.690     1642.94   135.052  287.03  \n",
              "1989-02-03      155.69         118.620     1659.11   137.134  285.63  \n",
              "1989-02-06      155.58         118.890     1656.86   137.037  284.69  \n",
              "1989-02-07      156.84         118.280     1662.76   136.914  284.21  \n",
              "...                ...             ...         ...       ...     ...  \n",
              "2018-07-06     1694.05         255.104     5888.00  1059.968  437.12  \n",
              "2018-07-09     1704.60         256.680     5904.19  1075.738  437.79  \n",
              "2018-07-10     1695.62         258.043     5921.59  1076.188  438.66  \n",
              "2018-07-11     1683.66         256.298     5874.90  1064.715  434.89  \n",
              "2018-07-12     1690.28         257.795     5883.11  1070.241  436.10  \n",
              "\n",
              "[7682 rows x 17 columns]>"
            ]
          },
          "execution_count": 290,
          "metadata": {},
          "output_type": "execute_result"
        }
      ],
      "source": [
        "df.corr"
      ]
    },
    {
      "cell_type": "code",
      "execution_count": 291,
      "metadata": {},
      "outputs": [
        {
          "data": {
            "image/png": "[encoded data removed]",
            "text/plain": [
              "<Figure size 480x480 with 2 Axes>"
            ]
          },
          "metadata": {},
          "output_type": "display_data"
        }
      ],
      "source": [
        "\n",
        "import matplotlib.pyplot as plt\n",
        "import seaborn as sns\n",
        "\n",
        "def show_heatmap(data, cmap=\"inferno\"):\n",
        "    plt.matshow(data.corr(), cmap=cmap)\n",
        "    plt.xticks(range(data.shape[1]), data.columns, fontsize=14, rotation=90)\n",
        "    plt.gca().xaxis.tick_bottom()\n",
        "    plt.yticks(range(data.shape[1]), data.columns, fontsize=14)\n",
        "\n",
        "    cb = plt.colorbar()\n",
        "    cb.ax.tick_params(labelsize=14)\n",
        "    plt.title(\"Feature Correlation Heatmap\", fontsize=14)\n",
        "    plt.show()\n",
        "show_heatmap(df, cmap=\"plasma\")\n"
      ]
    },
    {
      "cell_type": "markdown",
      "metadata": {},
      "source": [
        " Here I want to do a feature selection just as what we did before in the insurance homework. I perform a classification model and plot the feature importance to help me decide which top 9 features I want to choose to put it in the neural network model"
      ]
    },
    {
      "cell_type": "code",
      "execution_count": 292,
      "metadata": {},
      "outputs": [
        {
          "name": "stdout",
          "output_type": "stream",
          "text": [
            "Feature Importance:  [0.05992642 0.06103263 0.06726223 0.06404894 0.05671292 0.05391198\n",
            " 0.05633177 0.05556423 0.05147523 0.05139712 0.05484685 0.05597092\n",
            " 0.06456638 0.05925425 0.05692895 0.06694656 0.06382263]\n"
          ]
        },
        {
          "data": {
            "image/png": "[encoded data removed]",
            "text/plain": [
              "<Figure size 640x480 with 1 Axes>"
            ]
          },
          "metadata": {},
          "output_type": "display_data"
        }
      ],
      "source": [
        "from sklearn.ensemble import RandomForestClassifier\n",
        "\n",
        "rf = RandomForestClassifier()\n",
        "rf.fit(X_train, y_train)\n",
        "print(\"Feature Importance: \",rf.feature_importances_)\n",
        "feat_importances = pd.Series(rf.feature_importances_, index=X.columns).sort_values(ascending=False)\n",
        "feat_importances.plot(kind='barh')\n",
        "plt.show()"
      ]
    },
    {
      "cell_type": "code",
      "execution_count": 293,
      "metadata": {},
      "outputs": [
        {
          "data": {
            "text/plain": [
              "Index(['SP500', 'MSCI_EM', 'Russel2000', 'Gold', 'CRB', 'EuroStoxx50', 'FTSE',\n",
              "       'EuroStox_Small', 'FTSE_Small', 'French-2Y', 'French-10Y', 'US-30Y',\n",
              "       'French-30Y', 'US-10Y', 'French-5Y', 'US-2Y', 'US-5Y'],\n",
              "      dtype='object')"
            ]
          },
          "execution_count": 293,
          "metadata": {},
          "output_type": "execute_result"
        }
      ],
      "source": [
        "feat_importances.index"
      ]
    },
    {
      "cell_type": "code",
      "execution_count": 299,
      "metadata": {},
      "outputs": [],
      "source": [
        "X_train = X_train[feat_importances.index[:9]]\n",
        "X_test = X_test[feat_importances.index[:9]]"
      ]
    },
    {
      "cell_type": "code",
      "execution_count": 300,
      "metadata": {},
      "outputs": [],
      "source": [
        "def moving_window(df, window_size):\n",
        "    data = []\n",
        "    for i in range(len(df) - window_size):\n",
        "        data.append(df.iloc[i : i + window_size].values)\n",
        "    return np.array(data)\n",
        "\n",
        "WINDOW_SIZE = 15\n",
        "\n",
        "X_train = moving_window(X_train, WINDOW_SIZE)\n",
        "X_test = moving_window(X_test, WINDOW_SIZE)\n",
        "y_train = y_train[WINDOW_SIZE:]\n",
        "y_test = y_test[WINDOW_SIZE:]"
      ]
    },
    {
      "cell_type": "markdown",
      "metadata": {},
      "source": [
        "# Define the Model"
      ]
    },
    {
      "cell_type": "code",
      "execution_count": 301,
      "metadata": {},
      "outputs": [],
      "source": [
        "def model_builder(hp, window_size=WINDOW_SIZE):\n",
        "    inputs = keras.Input(shape=(window_size, 9))\n",
        "    hp_units = hp.Int(\"units\", min_value=16, max_value=64, step=32)\n",
        "    lstm = keras.layers.LSTM(units=hp_units, return_sequences=True)(inputs)\n",
        "    lstm2 = keras.layers.LSTM(units=hp_units // 2)(lstm)\n",
        "    outputs = keras.layers.Dense(1, activation=\"sigmoid\")(lstm2)\n",
        "\n",
        "    model = keras.Model(inputs=inputs, outputs=outputs)\n",
        "\n",
        "    hp_learning_rate = hp.Choice(\"learning_rate\", values=[2e-2, 1e-2, 1e-3])\n",
        "    model.compile(\n",
        "        optimizer=keras.optimizers.Adam(learning_rate=hp_learning_rate),\n",
        "        # optimizer=keras.optimizers.legacy.Adam(learning_rate=hp_learning_rate),\n",
        "        loss=\"binary_crossentropy\",\n",
        "        metrics=[\"accuracy\"],\n",
        "    )\n",
        "    return model"
      ]
    },
    {
      "cell_type": "code",
      "execution_count": 302,
      "metadata": {},
      "outputs": [
        {
          "data": {
            "text/html": [
              "<pre style=\"white-space:pre;overflow-x:auto;line-height:normal;font-family:Menlo,'DejaVu Sans Mono',consolas,'Courier New',monospace\"><span style=\"font-weight: bold\">Model: \"functional_85\"</span>\n",
              "</pre>\n"
            ],
            "text/plain": [
              "\u001b[1mModel: \"functional_85\"\u001b[0m\n"
            ]
          },
          "metadata": {},
          "output_type": "display_data"
        },
        {
          "data": {
            "text/html": [
              "<pre style=\"white-space:pre;overflow-x:auto;line-height:normal;font-family:Menlo,'DejaVu Sans Mono',consolas,'Courier New',monospace\">┏━━━━━━━━━━━━━━━━━━━━━━━━━━━━━━━━━┳━━━━━━━━━━━━━━━━━━━━━━━━━━━┳━━━━━━━━━━━━┓\n",
              "┃<span style=\"font-weight: bold\"> Layer (type)                    </span>┃<span style=\"font-weight: bold\"> Output Shape              </span>┃<span style=\"font-weight: bold\">    Param # </span>┃\n",
              "┡━━━━━━━━━━━━━━━━━━━━━━━━━━━━━━━━━╇━━━━━━━━━━━━━━━━━━━━━━━━━━━╇━━━━━━━━━━━━┩\n",
              "│ input_layer_63 (<span style=\"color: #0087ff; text-decoration-color: #0087ff\">InputLayer</span>)     │ (<span style=\"color: #00d7ff; text-decoration-color: #00d7ff\">None</span>, <span style=\"color: #00af00; text-decoration-color: #00af00\">15</span>, <span style=\"color: #00af00; text-decoration-color: #00af00\">9</span>)             │          <span style=\"color: #00af00; text-decoration-color: #00af00\">0</span> │\n",
              "├─────────────────────────────────┼───────────────────────────┼────────────┤\n",
              "│ lstm_53 (<span style=\"color: #0087ff; text-decoration-color: #0087ff\">LSTM</span>)                  │ (<span style=\"color: #00d7ff; text-decoration-color: #00d7ff\">None</span>, <span style=\"color: #00af00; text-decoration-color: #00af00\">32</span>)                │      <span style=\"color: #00af00; text-decoration-color: #00af00\">5,376</span> │\n",
              "├─────────────────────────────────┼───────────────────────────┼────────────┤\n",
              "│ dense_40 (<span style=\"color: #0087ff; text-decoration-color: #0087ff\">Dense</span>)                │ (<span style=\"color: #00d7ff; text-decoration-color: #00d7ff\">None</span>, <span style=\"color: #00af00; text-decoration-color: #00af00\">1</span>)                 │         <span style=\"color: #00af00; text-decoration-color: #00af00\">33</span> │\n",
              "└─────────────────────────────────┴───────────────────────────┴────────────┘\n",
              "</pre>\n"
            ],
            "text/plain": [
              "┏━━━━━━━━━━━━━━━━━━━━━━━━━━━━━━━━━┳━━━━━━━━━━━━━━━━━━━━━━━━━━━┳━━━━━━━━━━━━┓\n",
              "┃\u001b[1m \u001b[0m\u001b[1mLayer (type)                   \u001b[0m\u001b[1m \u001b[0m┃\u001b[1m \u001b[0m\u001b[1mOutput Shape             \u001b[0m\u001b[1m \u001b[0m┃\u001b[1m \u001b[0m\u001b[1m   Param #\u001b[0m\u001b[1m \u001b[0m┃\n",
              "┡━━━━━━━━━━━━━━━━━━━━━━━━━━━━━━━━━╇━━━━━━━━━━━━━━━━━━━━━━━━━━━╇━━━━━━━━━━━━┩\n",
              "│ input_layer_63 (\u001b[38;5;33mInputLayer\u001b[0m)     │ (\u001b[38;5;45mNone\u001b[0m, \u001b[38;5;34m15\u001b[0m, \u001b[38;5;34m9\u001b[0m)             │          \u001b[38;5;34m0\u001b[0m │\n",
              "├─────────────────────────────────┼───────────────────────────┼────────────┤\n",
              "│ lstm_53 (\u001b[38;5;33mLSTM\u001b[0m)                  │ (\u001b[38;5;45mNone\u001b[0m, \u001b[38;5;34m32\u001b[0m)                │      \u001b[38;5;34m5,376\u001b[0m │\n",
              "├─────────────────────────────────┼───────────────────────────┼────────────┤\n",
              "│ dense_40 (\u001b[38;5;33mDense\u001b[0m)                │ (\u001b[38;5;45mNone\u001b[0m, \u001b[38;5;34m1\u001b[0m)                 │         \u001b[38;5;34m33\u001b[0m │\n",
              "└─────────────────────────────────┴───────────────────────────┴────────────┘\n"
            ]
          },
          "metadata": {},
          "output_type": "display_data"
        },
        {
          "data": {
            "text/html": [
              "<pre style=\"white-space:pre;overflow-x:auto;line-height:normal;font-family:Menlo,'DejaVu Sans Mono',consolas,'Courier New',monospace\"><span style=\"font-weight: bold\"> Total params: </span><span style=\"color: #00af00; text-decoration-color: #00af00\">5,409</span> (21.13 KB)\n",
              "</pre>\n"
            ],
            "text/plain": [
              "\u001b[1m Total params: \u001b[0m\u001b[38;5;34m5,409\u001b[0m (21.13 KB)\n"
            ]
          },
          "metadata": {},
          "output_type": "display_data"
        },
        {
          "data": {
            "text/html": [
              "<pre style=\"white-space:pre;overflow-x:auto;line-height:normal;font-family:Menlo,'DejaVu Sans Mono',consolas,'Courier New',monospace\"><span style=\"font-weight: bold\"> Trainable params: </span><span style=\"color: #00af00; text-decoration-color: #00af00\">5,409</span> (21.13 KB)\n",
              "</pre>\n"
            ],
            "text/plain": [
              "\u001b[1m Trainable params: \u001b[0m\u001b[38;5;34m5,409\u001b[0m (21.13 KB)\n"
            ]
          },
          "metadata": {},
          "output_type": "display_data"
        },
        {
          "data": {
            "text/html": [
              "<pre style=\"white-space:pre;overflow-x:auto;line-height:normal;font-family:Menlo,'DejaVu Sans Mono',consolas,'Courier New',monospace\"><span style=\"font-weight: bold\"> Non-trainable params: </span><span style=\"color: #00af00; text-decoration-color: #00af00\">0</span> (0.00 B)\n",
              "</pre>\n"
            ],
            "text/plain": [
              "\u001b[1m Non-trainable params: \u001b[0m\u001b[38;5;34m0\u001b[0m (0.00 B)\n"
            ]
          },
          "metadata": {},
          "output_type": "display_data"
        }
      ],
      "source": [
        "window_size = 15\n",
        "learning_rate = 0.001\n",
        "inputs = keras.Input(shape=(window_size, 9))\n",
        "inputs_nn = keras.layers.Input(shape=(inputs.shape[1], inputs.shape[2]))\n",
        "lstm_out = keras.layers.LSTM(32)(inputs_nn)\n",
        "outputs = keras.layers.Dense(1)(lstm_out)\n",
        "\n",
        "model = keras.Model(inputs=inputs_nn, outputs=outputs)\n",
        "model.compile(optimizer=keras.optimizers.Adam(learning_rate=learning_rate), loss=\"mse\")\n",
        "model.summary()"
      ]
    },
    {
      "cell_type": "markdown",
      "metadata": {},
      "source": [
        "# Hyperparameter Tuning"
      ]
    },
    {
      "cell_type": "code",
      "execution_count": 303,
      "metadata": {},
      "outputs": [
        {
          "name": "stdout",
          "output_type": "stream",
          "text": [
            "Reloading Tuner from ./untitled_project/tuner0.json\n"
          ]
        }
      ],
      "source": [
        "tuner = kt.Hyperband(model_builder, objective=\"val_accuracy\", max_epochs=10, factor=3)\n",
        "stop_early = keras.callbacks.EarlyStopping(monitor=\"val_accuracy\", patience=5)"
      ]
    },
    {
      "cell_type": "markdown",
      "metadata": {},
      "source": [
        "\n",
        "# Get the optimal hyperparameters\n"
      ]
    },
    {
      "cell_type": "code",
      "execution_count": 304,
      "metadata": {},
      "outputs": [
        {
          "name": "stdout",
          "output_type": "stream",
          "text": [
            "Best units: 32, best learning rate: 0.01\n"
          ]
        }
      ],
      "source": [
        "tuner.search(\n",
        "    X_train,\n",
        "    y_train,\n",
        "    epochs=50,\n",
        "    validation_data=(X_test, y_test),\n",
        "    callbacks=[stop_early]\n",
        ")\n",
        "\n",
        "best_hps = tuner.get_best_hyperparameters(num_trials=1)[0]\n",
        "\n",
        "print(\n",
        "    f\"Best units: {best_hps.get('units')}, best learning rate: {best_hps.get('learning_rate')}\"\n",
        ")"
      ]
    },
    {
      "cell_type": "code",
      "execution_count": 305,
      "metadata": {},
      "outputs": [
        {
          "name": "stdout",
          "output_type": "stream",
          "text": [
            "Epoch 1/50\n",
            "\u001b[1m236/236\u001b[0m \u001b[32m━━━━━━━━━━━━━━━━━━━━\u001b[0m\u001b[37m\u001b[0m \u001b[1m3s\u001b[0m 6ms/step - accuracy: 0.4985 - loss: 0.6985 - val_accuracy: 0.5323 - val_loss: 0.6910\n",
            "Epoch 2/50\n",
            "\u001b[1m236/236\u001b[0m \u001b[32m━━━━━━━━━━━━━━━━━━━━\u001b[0m\u001b[37m\u001b[0m \u001b[1m1s\u001b[0m 6ms/step - accuracy: 0.5141 - loss: 0.6929 - val_accuracy: 0.5323 - val_loss: 0.6911\n",
            "Epoch 3/50\n",
            "\u001b[1m236/236\u001b[0m \u001b[32m━━━━━━━━━━━━━━━━━━━━\u001b[0m\u001b[37m\u001b[0m \u001b[1m1s\u001b[0m 6ms/step - accuracy: 0.5161 - loss: 0.6926 - val_accuracy: 0.5323 - val_loss: 0.6911\n",
            "Epoch 4/50\n",
            "\u001b[1m236/236\u001b[0m \u001b[32m━━━━━━━━━━━━━━━━━━━━\u001b[0m\u001b[37m\u001b[0m \u001b[1m1s\u001b[0m 5ms/step - accuracy: 0.5240 - loss: 0.6925 - val_accuracy: 0.5323 - val_loss: 0.6911\n",
            "Epoch 5/50\n",
            "\u001b[1m236/236\u001b[0m \u001b[32m━━━━━━━━━━━━━━━━━━━━\u001b[0m\u001b[37m\u001b[0m \u001b[1m1s\u001b[0m 5ms/step - accuracy: 0.5225 - loss: 0.6924 - val_accuracy: 0.5323 - val_loss: 0.6910\n",
            "Epoch 6/50\n",
            "\u001b[1m236/236\u001b[0m \u001b[32m━━━━━━━━━━━━━━━━━━━━\u001b[0m\u001b[37m\u001b[0m \u001b[1m1s\u001b[0m 5ms/step - accuracy: 0.5214 - loss: 0.6925 - val_accuracy: 0.5323 - val_loss: 0.6910\n"
          ]
        }
      ],
      "source": [
        "model = tuner.hypermodel.build(best_hps)\n",
        "history = model.fit(\n",
        "    X_train,\n",
        "    y_train,\n",
        "    epochs=50,\n",
        "    validation_data=(X_test, y_test),\n",
        "    callbacks=[stop_early]\n",
        ")\n",
        "val_mse_per_epoch = history.history['val_accuracy']"
      ]
    },
    {
      "cell_type": "code",
      "execution_count": 306,
      "metadata": {},
      "outputs": [
        {
          "name": "stdout",
          "output_type": "stream",
          "text": [
            "\u001b[1m4/4\u001b[0m \u001b[32m━━━━━━━━━━━━━━━━━━━━\u001b[0m\u001b[37m\u001b[0m \u001b[1m0s\u001b[0m 50ms/step\n"
          ]
        },
        {
          "data": {
            "image/png": "[encoded data removed]",
            "text/plain": [
              "<Figure size 640x480 with 1 Axes>"
            ]
          },
          "metadata": {},
          "output_type": "display_data"
        }
      ],
      "source": [
        "from sklearn.metrics import precision_recall_curve, average_precision_score\n",
        "import matplotlib.pyplot as plt\n",
        "y_pred = model.predict(X_test)\n",
        "precision, recall, _ = precision_recall_curve(y_test, y_pred)\n",
        "average_precision = average_precision_score(y_test, y_pred)\n",
        "plt.figure()\n",
        "plt.step(recall, precision, where='post', color='b', alpha=0.7,\n",
        "         label='Precision-Recall curve (area = %0.2f)' % average_precision)\n",
        "plt.fill_between(recall, precision, step='post', alpha=0.3, color='b')\n",
        "\n",
        "plt.xlabel('Recall')\n",
        "plt.ylabel('Precision')\n",
        "plt.ylim([0.0, 1.05])\n",
        "plt.xlim([0.0, 1.0])\n",
        "plt.title('2-class Precision-Recall curve: AP={0:0.2f}'.format(average_precision))\n",
        "plt.legend(loc=\"lower left\")\n",
        "plt.show()\n"
      ]
    },
    {
      "cell_type": "code",
      "execution_count": 307,
      "metadata": {},
      "outputs": [
        {
          "name": "stdout",
          "output_type": "stream",
          "text": [
            "Accuracy: 53.23%\n"
          ]
        }
      ],
      "source": [
        "y_pred_binary = np.where(y_pred > 0.5, 1, 0).reshape(-1)\n",
        "accuracy = np.mean(y_pred_binary == y_test)\n",
        "accuracy = accuracy_score(y_test, y_pred_binary)\n",
        "print(f'Accuracy: {accuracy * 100:.2f}%')"
      ]
    },
    {
      "cell_type": "code",
      "execution_count": 308,
      "metadata": {},
      "outputs": [
        {
          "data": {
            "image/png": "[encoded data removed]",
            "text/plain": [
              "<Figure size 640x480 with 2 Axes>"
            ]
          },
          "metadata": {},
          "output_type": "display_data"
        }
      ],
      "source": [
        "# Confusion matrix\n",
        "cm = confusion_matrix(y_test, y_pred_binary)\n",
        "\n",
        "# Plot confusion matrix\n",
        "fig, ax = plt.subplots()\n",
        "cax = ax.matshow(cm, cmap=plt.cm.Blues)\n",
        "fig.colorbar(cax)\n",
        "ax.set_xticklabels([''] + [0, 1])\n",
        "ax.set_yticklabels([''] + [0, 1])\n",
        "ax.set_xlabel('Predicted labels')\n",
        "ax.set_ylabel('True labels')\n",
        "plt.title('Confusion Matrix')\n",
        "plt.show()\n",
        "\n"
      ]
    },
    {
      "cell_type": "code",
      "execution_count": 309,
      "metadata": {},
      "outputs": [
        {
          "data": {
            "image/png": "[encoded data removed]",
            "text/plain": [
              "<Figure size 640x480 with 1 Axes>"
            ]
          },
          "metadata": {},
          "output_type": "display_data"
        }
      ],
      "source": [
        "# Plot training and validation accuracy values\n",
        "plt.plot(history.history['accuracy'], label='Train')\n",
        "plt.plot(history.history['val_accuracy'], label='Test')\n",
        "plt.title('Model Accuracy')\n",
        "plt.ylabel('Accuracy')\n",
        "plt.xlabel('Epoch')\n",
        "plt.legend(loc='upper left')\n",
        "plt.show()\n"
      ]
    },
    {
      "cell_type": "code",
      "execution_count": 310,
      "metadata": {},
      "outputs": [
        {
          "data": {
            "image/png": "[encoded data removed]",
            "text/plain": [
              "<Figure size 640x480 with 1 Axes>"
            ]
          },
          "metadata": {},
          "output_type": "display_data"
        }
      ],
      "source": [
        "def visualize_loss(history, title):\n",
        "    loss = history.history[\"loss\"]\n",
        "    val_loss = history.history[\"val_loss\"]\n",
        "    epochs = range(len(loss))\n",
        "    plt.figure()\n",
        "    plt.plot(epochs, loss, \"b\", label=\"Training loss\")\n",
        "    plt.plot(epochs, val_loss, \"r\", label=\"Validation loss\")\n",
        "    plt.title(title)\n",
        "    plt.xlabel(\"Epochs\")\n",
        "    plt.ylabel(\"Loss\")\n",
        "    plt.legend()\n",
        "    plt.show()\n",
        "\n",
        "\n",
        "visualize_loss(history, \"Training and Validation Loss\")"
      ]
    },
    {
      "cell_type": "code",
      "execution_count": null,
      "metadata": {},
      "outputs": [],
      "source": []
    }
  ],
  "metadata": {
    "colab": {
      "provenance": []
    },
    "kernelspec": {
      "display_name": "Python 3",
      "name": "python3"
    },
    "language_info": {
      "codemirror_mode": {
        "name": "ipython",
        "version": 3
      },
      "file_extension": ".py",
      "mimetype": "text/x-python",
      "name": "python",
      "nbconvert_exporter": "python",
      "pygments_lexer": "ipython3",
      "version": "3.11.4"
    }
  },
  "nbformat": 4,
  "nbformat_minor": 0
}
